{
 "cells": [
  {
   "cell_type": "markdown",
   "metadata": {},
   "source": [
    "# Analítica Avanzada de Datos. - Práctica 1\n",
    "---"
   ]
  },
  {
   "cell_type": "markdown",
   "metadata": {},
   "source": [
    "Ahora es tu turno de analizar un banco de datos del mundo real que contiene datos de vuelos del Departamento de Transporte de Estados Unidos"
   ]
  },
  {
   "cell_type": "markdown",
   "metadata": {},
   "source": [
    "Primero carga y visualiza los datos. (flights.csv)"
   ]
  },
  {
   "cell_type": "code",
   "execution_count": null,
   "metadata": {},
   "outputs": [],
   "source": []
  },
  {
   "cell_type": "code",
   "execution_count": 96,
   "metadata": {},
   "outputs": [],
   "source": [
    "import matplotlib.pyplot as plt\n",
    "import seaborn as sns"
   ]
  },
  {
   "cell_type": "code",
   "execution_count": 89,
   "metadata": {},
   "outputs": [
    {
     "data": {
      "text/html": [
       "<div>\n",
       "<style scoped>\n",
       "    .dataframe tbody tr th:only-of-type {\n",
       "        vertical-align: middle;\n",
       "    }\n",
       "\n",
       "    .dataframe tbody tr th {\n",
       "        vertical-align: top;\n",
       "    }\n",
       "\n",
       "    .dataframe thead th {\n",
       "        text-align: right;\n",
       "    }\n",
       "</style>\n",
       "<table border=\"1\" class=\"dataframe\">\n",
       "  <thead>\n",
       "    <tr style=\"text-align: right;\">\n",
       "      <th></th>\n",
       "      <th>Year</th>\n",
       "      <th>Month</th>\n",
       "      <th>DayofMonth</th>\n",
       "      <th>DayOfWeek</th>\n",
       "      <th>Carrier</th>\n",
       "      <th>OriginAirportID</th>\n",
       "      <th>OriginAirportName</th>\n",
       "      <th>OriginCity</th>\n",
       "      <th>OriginState</th>\n",
       "      <th>DestAirportID</th>\n",
       "      <th>DestAirportName</th>\n",
       "      <th>DestCity</th>\n",
       "      <th>DestState</th>\n",
       "      <th>CRSDepTime</th>\n",
       "      <th>DepDelay</th>\n",
       "      <th>DepDel15</th>\n",
       "      <th>CRSArrTime</th>\n",
       "      <th>ArrDelay</th>\n",
       "      <th>ArrDel15</th>\n",
       "      <th>Cancelled</th>\n",
       "    </tr>\n",
       "  </thead>\n",
       "  <tbody>\n",
       "    <tr>\n",
       "      <th>0</th>\n",
       "      <td>2013</td>\n",
       "      <td>9</td>\n",
       "      <td>16</td>\n",
       "      <td>1</td>\n",
       "      <td>DL</td>\n",
       "      <td>15304</td>\n",
       "      <td>Tampa International</td>\n",
       "      <td>Tampa</td>\n",
       "      <td>FL</td>\n",
       "      <td>12478</td>\n",
       "      <td>John F. Kennedy International</td>\n",
       "      <td>New York</td>\n",
       "      <td>NY</td>\n",
       "      <td>1539</td>\n",
       "      <td>4</td>\n",
       "      <td>0.0</td>\n",
       "      <td>1824</td>\n",
       "      <td>13</td>\n",
       "      <td>0</td>\n",
       "      <td>0</td>\n",
       "    </tr>\n",
       "    <tr>\n",
       "      <th>1</th>\n",
       "      <td>2013</td>\n",
       "      <td>9</td>\n",
       "      <td>23</td>\n",
       "      <td>1</td>\n",
       "      <td>WN</td>\n",
       "      <td>14122</td>\n",
       "      <td>Pittsburgh International</td>\n",
       "      <td>Pittsburgh</td>\n",
       "      <td>PA</td>\n",
       "      <td>13232</td>\n",
       "      <td>Chicago Midway International</td>\n",
       "      <td>Chicago</td>\n",
       "      <td>IL</td>\n",
       "      <td>710</td>\n",
       "      <td>3</td>\n",
       "      <td>0.0</td>\n",
       "      <td>740</td>\n",
       "      <td>22</td>\n",
       "      <td>1</td>\n",
       "      <td>0</td>\n",
       "    </tr>\n",
       "    <tr>\n",
       "      <th>2</th>\n",
       "      <td>2013</td>\n",
       "      <td>9</td>\n",
       "      <td>7</td>\n",
       "      <td>6</td>\n",
       "      <td>AS</td>\n",
       "      <td>14747</td>\n",
       "      <td>Seattle/Tacoma International</td>\n",
       "      <td>Seattle</td>\n",
       "      <td>WA</td>\n",
       "      <td>11278</td>\n",
       "      <td>Ronald Reagan Washington National</td>\n",
       "      <td>Washington</td>\n",
       "      <td>DC</td>\n",
       "      <td>810</td>\n",
       "      <td>-3</td>\n",
       "      <td>0.0</td>\n",
       "      <td>1614</td>\n",
       "      <td>-7</td>\n",
       "      <td>0</td>\n",
       "      <td>0</td>\n",
       "    </tr>\n",
       "    <tr>\n",
       "      <th>3</th>\n",
       "      <td>2013</td>\n",
       "      <td>7</td>\n",
       "      <td>22</td>\n",
       "      <td>1</td>\n",
       "      <td>OO</td>\n",
       "      <td>13930</td>\n",
       "      <td>Chicago O'Hare International</td>\n",
       "      <td>Chicago</td>\n",
       "      <td>IL</td>\n",
       "      <td>11042</td>\n",
       "      <td>Cleveland-Hopkins International</td>\n",
       "      <td>Cleveland</td>\n",
       "      <td>OH</td>\n",
       "      <td>804</td>\n",
       "      <td>35</td>\n",
       "      <td>1.0</td>\n",
       "      <td>1027</td>\n",
       "      <td>33</td>\n",
       "      <td>1</td>\n",
       "      <td>0</td>\n",
       "    </tr>\n",
       "    <tr>\n",
       "      <th>4</th>\n",
       "      <td>2013</td>\n",
       "      <td>5</td>\n",
       "      <td>16</td>\n",
       "      <td>4</td>\n",
       "      <td>DL</td>\n",
       "      <td>13931</td>\n",
       "      <td>Norfolk International</td>\n",
       "      <td>Norfolk</td>\n",
       "      <td>VA</td>\n",
       "      <td>10397</td>\n",
       "      <td>Hartsfield-Jackson Atlanta International</td>\n",
       "      <td>Atlanta</td>\n",
       "      <td>GA</td>\n",
       "      <td>545</td>\n",
       "      <td>-1</td>\n",
       "      <td>0.0</td>\n",
       "      <td>728</td>\n",
       "      <td>-9</td>\n",
       "      <td>0</td>\n",
       "      <td>0</td>\n",
       "    </tr>\n",
       "  </tbody>\n",
       "</table>\n",
       "</div>"
      ],
      "text/plain": [
       "   Year  Month  DayofMonth  DayOfWeek Carrier  OriginAirportID  \\\n",
       "0  2013      9          16          1      DL            15304   \n",
       "1  2013      9          23          1      WN            14122   \n",
       "2  2013      9           7          6      AS            14747   \n",
       "3  2013      7          22          1      OO            13930   \n",
       "4  2013      5          16          4      DL            13931   \n",
       "\n",
       "              OriginAirportName  OriginCity OriginState  DestAirportID  \\\n",
       "0           Tampa International       Tampa          FL          12478   \n",
       "1      Pittsburgh International  Pittsburgh          PA          13232   \n",
       "2  Seattle/Tacoma International     Seattle          WA          11278   \n",
       "3  Chicago O'Hare International     Chicago          IL          11042   \n",
       "4         Norfolk International     Norfolk          VA          10397   \n",
       "\n",
       "                            DestAirportName    DestCity DestState  CRSDepTime  \\\n",
       "0             John F. Kennedy International    New York        NY        1539   \n",
       "1              Chicago Midway International     Chicago        IL         710   \n",
       "2         Ronald Reagan Washington National  Washington        DC         810   \n",
       "3           Cleveland-Hopkins International   Cleveland        OH         804   \n",
       "4  Hartsfield-Jackson Atlanta International     Atlanta        GA         545   \n",
       "\n",
       "   DepDelay  DepDel15  CRSArrTime  ArrDelay  ArrDel15  Cancelled  \n",
       "0         4       0.0        1824        13         0          0  \n",
       "1         3       0.0         740        22         1          0  \n",
       "2        -3       0.0        1614        -7         0          0  \n",
       "3        35       1.0        1027        33         1          0  \n",
       "4        -1       0.0         728        -9         0          0  "
      ]
     },
     "execution_count": 89,
     "metadata": {},
     "output_type": "execute_result"
    }
   ],
   "source": [
    "import pandas as pd\n",
    "import numpy as np\n",
    "\n",
    "df = pd.read_csv(filepath_or_buffer='flights.csv')\n",
    "df.head(5)"
   ]
  },
  {
   "cell_type": "code",
   "execution_count": null,
   "metadata": {},
   "outputs": [],
   "source": [
    "# percentiles_depd = np.percentile(df[\"DepDelay\"], range(10, 90, 10))\n",
    "# percentiles_depd"
   ]
  },
  {
   "cell_type": "code",
   "execution_count": 90,
   "metadata": {},
   "outputs": [],
   "source": [
    "percentiles_arrdel = np.percentile(df[\"ArrDelay\"], range(10, 90, 10))\n",
    "percentiles_arrdel\n",
    "df = df[(df[\"ArrDelay\"] > percentiles_arrdel[0]) & (df[\"ArrDelay\"] < percentiles_arrdel[7])]"
   ]
  },
  {
   "cell_type": "markdown",
   "metadata": {},
   "source": [
    "El banco de datos contiene observaciones de los vuelos nacionales estadounidenses en 2013 y consta de los siguientes campos:\n",
    "- **Año**: El año del vuelo (todos los registros son de 2013).\n",
    "- **Mes**: El mes del vuelo\n",
    "- **DayofMonth** (día del mes): El día del mes en el que salió el vuelo\n",
    "- **Día de la semana**: El día de la semana en que salió el vuelo - del 1 (lunes) al 7 (domingo)\n",
    "- **Compañía aérea**: La abreviatura de dos letras de la compañía aérea.\n",
    "- **OriginAirportID**: Identificador numérico único del aeropuerto de salida.\n",
    "- **OriginAirportName**: El nombre completo del aeropuerto de salida\n",
    "- **OriginCity** (Ciudad de origen): Ciudad del aeropuerto de salida\n",
    "- **OriginState**: Estado del aeropuerto de salida Estado del aeropuerto de salida\n",
    "- **DestAirportID**: Identificador numérico único del aeropuerto de destino\n",
    "- **DestAirportName**: El nombre completo del aeropuerto de destino\n",
    "- **DestCity**: La ciudad del aeropuerto de destino\n",
    "- **DestState**: El estado del aeropuerto de destino\n",
    "- **CRSDepTime**: La hora de salida programada\n",
    "- **DepDelay**: El número de minutos que se retrasó la salida (los vuelos que salieron antes de lo previsto tienen un valor negativo)\n",
    "- **DelDelay15**: Un indicador binario de que la salida se retrasó más de 15 minutos (y por lo tanto se considera \"tarde\")\n",
    "- **CRSArrTime**: La hora de llegada programada\n",
    "- **ArrDelay**: El número de minutos que se retrasó la lleg"
   ]
  },
  {
   "cell_type": "markdown",
   "metadata": {},
   "source": [
    "Lo que se tiene que hacer en esta práctica es explorar los datos de vuelo para analizar los posibles factores que afectan a los retrasos en la salida o llegada de un vuelo."
   ]
  },
  {
   "cell_type": "markdown",
   "metadata": {},
   "source": [
    " 1. Empieza con limpiar los datos.\n",
    "     - Identifica los datos nulos o ausentes e imputa los valores de sustitución adecuados.\n",
    "     - Identifica y elimina cualquier valor atípico en las columnas *DepDelay* y *ArrDelay*.\n",
    "             - Tips: \n",
    "            - Primero visualiza la distribución de las columnas\n",
    "            - Define donde se observan los valores atipicos \n",
    "            - Recorta los datos de tal forma que los percentiles esten entre 1 y 90\n",
    " 2. Explora los datos limpios.\n",
    "     - Consulta las estadísticas de resumen de los campos numéricos del conjunto de datos.\n",
    "     - Determina la distribución de las columnas *DepDelay* y *ArrDelay*.\n",
    "     - Utiliza estadísticas, funciones de agregación y visualización para responder a las siguientes preguntas:\n",
    "         - *¿Cuáles son los promedios (mean) de salida y llegada?*\n",
    "         - *¿Cómo se comparan las compañías en cuanto a retrasos en las llegadas?*\n",
    "         - *¿Hay días de la semana más propensos a las llegadas que otros?*\n",
    "         - *¿Cuál es el aeropuerto de salida con mayor retraso medio?*\n",
    "         - *¿Las salidas tardías suelen provocar mayores retrasos en las llegadas que las salidas puntuales?*\n",
    "         - *¿Qué ruta (del aeropuerto de origen al aeropuerto de destino) tiene más llegadas con retraso?*\n",
    "         - *¿Qué ruta tiene el mayor retraso medio de llegada?*"
   ]
  },
  {
   "cell_type": "code",
   "execution_count": 91,
   "metadata": {},
   "outputs": [],
   "source": []
  },
  {
   "cell_type": "code",
   "execution_count": 139,
   "metadata": {},
   "outputs": [],
   "source": [
    "values = list(set(data.aerolina.values))"
   ]
  },
  {
   "cell_type": "code",
   "execution_count": 93,
   "metadata": {},
   "outputs": [],
   "source": [
    "primera_aerolina = data[data.aerolina == values[1]]"
   ]
  },
  {
   "cell_type": "code",
   "execution_count": 112,
   "metadata": {},
   "outputs": [
    {
     "data": {
      "text/plain": [
       "<matplotlib.legend.Legend at 0x27b7ebb0310>"
      ]
     },
     "execution_count": 112,
     "metadata": {},
     "output_type": "execute_result"
    },
    {
     "data": {
      "image/png": "[encoded data removed]",
      "text/plain": [
       "<Figure size 432x288 with 1 Axes>"
      ]
     },
     "metadata": {
      "needs_background": "light"
     },
     "output_type": "display_data"
    }
   ],
   "source": [
    "plt.hist(primera_aerolina['Minutos_tarde'][primera_aerolina['Minutos_tarde'] >=0], label=values[1], color='pink')\n",
    "plt.legend()"
   ]
  },
  {
   "cell_type": "code",
   "execution_count": 131,
   "metadata": {},
   "outputs": [],
   "source": []
  },
  {
   "cell_type": "code",
   "execution_count": 161,
   "metadata": {},
   "outputs": [],
   "source": [
    "\n"
   ]
  },
  {
   "cell_type": "code",
   "execution_count": null,
   "metadata": {},
   "outputs": [],
   "source": [
    "\n"
   ]
  },
  {
   "cell_type": "code",
   "execution_count": 210,
   "metadata": {},
   "outputs": [
    {
     "name": "stdout",
     "output_type": "stream",
     "text": [
      "Counter({0: 92, 1: 81, 2: 62, 3: 51, 4: 48, 5: 41, 8: 40, 6: 31, 7: 28, 10: 24, 11: 23, 9: 21, 12: 19, 13: 17, 14: 9})\n",
      "La aerolina HA el maximo que se retrasa son: [14] minutos\n",
      "Counter({0: 421, 1: 138, 2: 128, 3: 112, 4: 105, 5: 103, 6: 83, 9: 73, 7: 73, 8: 62, 10: 59, 13: 58, 11: 57, 12: 52, 14: 38})\n",
      "La aerolina 9E el maximo que se retrasa son: [14] minutos\n",
      "Counter({0: 87, 1: 77, 2: 71, 4: 61, 5: 58, 6: 48, 8: 45, 3: 44, 10: 42, 13: 41, 11: 38, 14: 36, 7: 35, 9: 34, 12: 29})\n",
      "La aerolina VX el maximo que se retrasa son: [12] minutos\n",
      "Counter({0: 264, 1: 139, 2: 118, 4: 107, 5: 97, 3: 95, 8: 83, 6: 75, 7: 61, 10: 57, 9: 56, 11: 54, 12: 53, 13: 47, 14: 35})\n",
      "La aerolina YV el maximo que se retrasa son: [14] minutos\n",
      "Counter({0: 677, 1: 234, 2: 194, 6: 194, 5: 175, 3: 164, 4: 155, 7: 145, 10: 139, 11: 139, 9: 129, 8: 122, 14: 112, 12: 98, 13: 92})\n",
      "La aerolina MQ el maximo que se retrasa son: [13] minutos\n",
      "Counter({2: 115, 4: 106, 0: 103, 1: 100, 3: 92, 6: 82, 5: 76, 8: 74, 7: 74, 9: 62, 10: 58, 12: 51, 13: 51, 14: 41, 11: 40})\n",
      "La aerolina F9 el maximo que se retrasa son: [11] minutos\n",
      "Counter({0: 713, 1: 358, 3: 346, 2: 335, 4: 326, 5: 295, 6: 263, 7: 245, 8: 210, 10: 168, 12: 162, 9: 159, 11: 153, 14: 144, 13: 127})\n",
      "La aerolina OO el maximo que se retrasa son: [13] minutos\n",
      "Counter({0: 953, 1: 818, 2: 742, 3: 676, 4: 610, 5: 562, 6: 512, 7: 497, 8: 452, 9: 397, 10: 371, 11: 339, 13: 287, 12: 285, 14: 265})\n",
      "La aerolina DL el maximo que se retrasa son: [14] minutos\n",
      "Counter({0: 754, 1: 501, 2: 483, 4: 410, 3: 409, 5: 396, 6: 343, 8: 336, 7: 327, 9: 298, 10: 274, 11: 268, 12: 246, 14: 211, 13: 211})\n",
      "La aerolina UA el maximo que se retrasa son: [13, 14] minutos\n",
      "Counter({0: 314, 1: 235, 2: 219, 4: 198, 3: 190, 7: 170, 5: 158, 6: 147, 9: 134, 10: 126, 8: 120, 11: 114, 12: 111, 13: 100, 14: 99})\n",
      "La aerolina FL el maximo que se retrasa son: [14] minutos\n",
      "Counter({0: 735, 1: 262, 2: 243, 3: 217, 4: 204, 5: 182, 8: 181, 6: 168, 10: 155, 7: 140, 9: 139, 12: 124, 13: 121, 11: 119, 14: 106})\n",
      "La aerolina EV el maximo que se retrasa son: [14] minutos\n",
      "Counter({0: 1005, 1: 601, 2: 536, 4: 479, 3: 476, 5: 426, 6: 411, 8: 399, 7: 383, 9: 361, 10: 303, 11: 279, 12: 272, 14: 257, 13: 237})\n",
      "La aerolina AA el maximo que se retrasa son: [13] minutos\n",
      "Counter({0: 799, 2: 542, 1: 528, 3: 509, 4: 455, 5: 411, 6: 407, 7: 361, 8: 326, 9: 306, 11: 286, 10: 277, 12: 238, 13: 206, 14: 204})\n",
      "La aerolina US el maximo que se retrasa son: [14] minutos\n",
      "Counter({0: 205, 1: 185, 3: 171, 2: 167, 4: 153, 5: 143, 6: 140, 7: 140, 8: 128, 9: 113, 10: 109, 11: 80, 13: 71, 12: 69, 14: 61})\n",
      "La aerolina AS el maximo que se retrasa son: [14] minutos\n",
      "Counter({0: 2051, 1: 1584, 2: 1465, 3: 1377, 5: 1193, 4: 1179, 7: 1068, 6: 1065, 8: 980, 9: 887, 10: 831, 11: 766, 12: 718, 13: 680, 14: 666})\n",
      "La aerolina WN el maximo que se retrasa son: [14] minutos\n",
      "Counter({0: 281, 3: 218, 5: 205, 1: 205, 2: 199, 4: 169, 7: 154, 6: 143, 9: 136, 11: 133, 8: 126, 13: 111, 12: 109, 10: 101, 14: 97})\n",
      "La aerolina B6 el maximo que se retrasa son: [14] minutos\n"
     ]
    }
   ],
   "source": [
    "from collections import Counter\n",
    "\n",
    "# Obtenemos los datos con los que vamos a ocupar\n",
    "data = pd.DataFrame({'aerolina':df.Carrier, 'Minutos_tarde':df.ArrDelay})\n",
    "\n",
    "\n",
    "# Obtenemos el nombre de las aerolinas\n",
    "values = list(set(data.aerolina.values))\n",
    "\n",
    "# Iteramos sobre los nombres de cada aerolina\n",
    "for nombre in values:\n",
    "    # Obtenemos un auxiliar\n",
    "    dataprim = data[data.aerolina == nombre]\n",
    "    aux = dataprim['Minutos_tarde'][dataprim['Minutos_tarde'] >=0]\n",
    "    \n",
    "    cuenta = Counter(aux)\n",
    "    # print(cuenta)\n",
    "    minimo = min(cuenta.values())\n",
    "    nombres = sorted([nombre for nombre, veces in cuenta.items() if veces == minimo])\n",
    "    print(f'La aerolina {nombre} el maximo que se retrasa son: {nombres} minutos')"
   ]
  },
  {
   "cell_type": "code",
   "execution_count": 208,
   "metadata": {},
   "outputs": [
    {
     "data": {
      "image/png": "[encoded data removed]",
      "text/plain": [
       "<Figure size 720x1080 with 1 Axes>"
      ]
     },
     "metadata": {
      "needs_background": "light"
     },
     "output_type": "display_data"
    }
   ],
   "source": [
    "values = list(set(data.aerolina.values))\n",
    "for color, aero in zip(mcolors.CSS4_COLORS, values):\n",
    "    aerolinas = data[data.aerolina == aero]\n",
    "    \n",
    "    aux = aerolinas['Minutos_tarde'][ aerolinas['Minutos_tarde'] >=2]\n",
    "    \n",
    "    # fig, ax = plt.subplot()\n",
    "    \n",
    "    sns.histplot(x=aux, kde=True, line_kws={'linestyle' : 'dashed',\n",
    "                                                     'linewidth' : '2'}, color=color, label=aero).lines[0].set_color(color)\n",
    "    plt.legend()\n",
    "    plt.rcParams[\"figure.figsize\"] = (5,15)\n",
    "    "
   ]
  },
  {
   "cell_type": "code",
   "execution_count": 116,
   "metadata": {},
   "outputs": [
    {
     "data": {
      "text/plain": [
       "<matplotlib.legend.Legend at 0x27b7efbea10>"
      ]
     },
     "execution_count": 116,
     "metadata": {},
     "output_type": "execute_result"
    },
    {
     "data": {
      "image/png": "[encoded data removed]",
      "text/plain": [
       "<Figure size 432x288 with 1 Axes>"
      ]
     },
     "metadata": {
      "needs_background": "light"
     },
     "output_type": "display_data"
    }
   ],
   "source": [
    "# plt.hist(primera_aerolina.Minutos_tarde)\n",
    "sns.histplot(x=primera_aerolina.Minutos_tarde, kde=True, line_kws={'linestyle' : 'dashed',\n",
    "                                                     'linewidth' : '2'}, color='black', label=values[1]).lines[0].set_color('red')\n",
    "plt.legend()"
   ]
  },
  {
   "cell_type": "code",
   "execution_count": null,
   "metadata": {},
   "outputs": [],
   "source": [
    "def plot_aerolina(data):\n",
    "    values = list(set(data.aerolina.values))\n",
    "    for "
   ]
  },
  {
   "cell_type": "code",
   "execution_count": 2,
   "metadata": {},
   "outputs": [
    {
     "name": "stdout",
     "output_type": "stream",
     "text": [
      "Columna: Year, total de nulos: 0\n",
      "Columna: Month, total de nulos: 0\n",
      "Columna: DayofMonth, total de nulos: 0\n",
      "Columna: DayOfWeek, total de nulos: 0\n",
      "Columna: Carrier, total de nulos: 0\n",
      "Columna: OriginAirportID, total de nulos: 0\n",
      "Columna: OriginAirportName, total de nulos: 0\n",
      "Columna: OriginCity, total de nulos: 0\n",
      "Columna: OriginState, total de nulos: 0\n",
      "Columna: DestAirportID, total de nulos: 0\n",
      "Columna: DestAirportName, total de nulos: 0\n",
      "Columna: DestCity, total de nulos: 0\n",
      "Columna: DestState, total de nulos: 0\n",
      "Columna: CRSDepTime, total de nulos: 0\n",
      "Columna: DepDelay, total de nulos: 0\n",
      "Columna: DepDel15, total de nulos: 2761\n",
      "Columna: CRSArrTime, total de nulos: 0\n",
      "Columna: ArrDelay, total de nulos: 0\n",
      "Columna: ArrDel15, total de nulos: 0\n",
      "Columna: Cancelled, total de nulos: 0\n"
     ]
    }
   ],
   "source": [
    "#escribe tu código aqui\n",
    "def comprobar_nulos(data):\n",
    "    for col in data.columns:\n",
    "        print(f'Columna: {col}, total de nulos: {df[col].isnull().sum()}')\n",
    "\n",
    "\n",
    "comprobar_nulos(df)"
   ]
  },
  {
   "cell_type": "code",
   "execution_count": null,
   "metadata": {},
   "outputs": [],
   "source": []
  },
  {
   "cell_type": "code",
   "execution_count": 3,
   "metadata": {},
   "outputs": [],
   "source": [
    "# value = np.zeros(shape=np.shape(df.DepDelay)[0])\n",
    "aux = list()\n",
    "\n",
    "for value in df.DepDelay:\n",
    "    if value <=15:\n",
    "        aux.append(0)\n",
    "    else:\n",
    "        aux.append(1)\n",
    "\n",
    "aux = np.array(aux)"
   ]
  },
  {
   "cell_type": "code",
   "execution_count": 8,
   "metadata": {},
   "outputs": [
    {
     "data": {
      "text/plain": [
       "True"
      ]
     },
     "execution_count": 8,
     "metadata": {},
     "output_type": "execute_result"
    }
   ],
   "source": [
    "np.shape(np.where(df.DepDelay <= 15, 0, 1)) == np.shape(aux)"
   ]
  },
  {
   "cell_type": "code",
   "execution_count": 4,
   "metadata": {},
   "outputs": [],
   "source": [
    "df['DepDel15'] = aux"
   ]
  },
  {
   "cell_type": "code",
   "execution_count": 5,
   "metadata": {},
   "outputs": [
    {
     "name": "stdout",
     "output_type": "stream",
     "text": [
      "Columna: Year, total de nulos: 0\n",
      "Columna: Month, total de nulos: 0\n",
      "Columna: DayofMonth, total de nulos: 0\n",
      "Columna: DayOfWeek, total de nulos: 0\n",
      "Columna: Carrier, total de nulos: 0\n",
      "Columna: OriginAirportID, total de nulos: 0\n",
      "Columna: OriginAirportName, total de nulos: 0\n",
      "Columna: OriginCity, total de nulos: 0\n",
      "Columna: OriginState, total de nulos: 0\n",
      "Columna: DestAirportID, total de nulos: 0\n",
      "Columna: DestAirportName, total de nulos: 0\n",
      "Columna: DestCity, total de nulos: 0\n",
      "Columna: DestState, total de nulos: 0\n",
      "Columna: CRSDepTime, total de nulos: 0\n",
      "Columna: DepDelay, total de nulos: 0\n",
      "Columna: DepDel15, total de nulos: 0\n",
      "Columna: CRSArrTime, total de nulos: 0\n",
      "Columna: ArrDelay, total de nulos: 0\n",
      "Columna: ArrDel15, total de nulos: 0\n",
      "Columna: Cancelled, total de nulos: 0\n"
     ]
    },
    {
     "data": {
      "text/html": [
       "<div>\n",
       "<style scoped>\n",
       "    .dataframe tbody tr th:only-of-type {\n",
       "        vertical-align: middle;\n",
       "    }\n",
       "\n",
       "    .dataframe tbody tr th {\n",
       "        vertical-align: top;\n",
       "    }\n",
       "\n",
       "    .dataframe thead th {\n",
       "        text-align: right;\n",
       "    }\n",
       "</style>\n",
       "<table border=\"1\" class=\"dataframe\">\n",
       "  <thead>\n",
       "    <tr style=\"text-align: right;\">\n",
       "      <th></th>\n",
       "      <th>Year</th>\n",
       "      <th>Month</th>\n",
       "      <th>DayofMonth</th>\n",
       "      <th>DayOfWeek</th>\n",
       "      <th>Carrier</th>\n",
       "      <th>OriginAirportID</th>\n",
       "      <th>OriginAirportName</th>\n",
       "      <th>OriginCity</th>\n",
       "      <th>OriginState</th>\n",
       "      <th>DestAirportID</th>\n",
       "      <th>DestAirportName</th>\n",
       "      <th>DestCity</th>\n",
       "      <th>DestState</th>\n",
       "      <th>CRSDepTime</th>\n",
       "      <th>DepDelay</th>\n",
       "      <th>DepDel15</th>\n",
       "      <th>CRSArrTime</th>\n",
       "      <th>ArrDelay</th>\n",
       "      <th>ArrDel15</th>\n",
       "      <th>Cancelled</th>\n",
       "    </tr>\n",
       "  </thead>\n",
       "  <tbody>\n",
       "    <tr>\n",
       "      <th>0</th>\n",
       "      <td>2013</td>\n",
       "      <td>9</td>\n",
       "      <td>16</td>\n",
       "      <td>1</td>\n",
       "      <td>DL</td>\n",
       "      <td>15304</td>\n",
       "      <td>Tampa International</td>\n",
       "      <td>Tampa</td>\n",
       "      <td>FL</td>\n",
       "      <td>12478</td>\n",
       "      <td>John F. Kennedy International</td>\n",
       "      <td>New York</td>\n",
       "      <td>NY</td>\n",
       "      <td>1539</td>\n",
       "      <td>4</td>\n",
       "      <td>0</td>\n",
       "      <td>1824</td>\n",
       "      <td>13</td>\n",
       "      <td>0</td>\n",
       "      <td>0</td>\n",
       "    </tr>\n",
       "    <tr>\n",
       "      <th>1</th>\n",
       "      <td>2013</td>\n",
       "      <td>9</td>\n",
       "      <td>23</td>\n",
       "      <td>1</td>\n",
       "      <td>WN</td>\n",
       "      <td>14122</td>\n",
       "      <td>Pittsburgh International</td>\n",
       "      <td>Pittsburgh</td>\n",
       "      <td>PA</td>\n",
       "      <td>13232</td>\n",
       "      <td>Chicago Midway International</td>\n",
       "      <td>Chicago</td>\n",
       "      <td>IL</td>\n",
       "      <td>710</td>\n",
       "      <td>3</td>\n",
       "      <td>0</td>\n",
       "      <td>740</td>\n",
       "      <td>22</td>\n",
       "      <td>1</td>\n",
       "      <td>0</td>\n",
       "    </tr>\n",
       "    <tr>\n",
       "      <th>2</th>\n",
       "      <td>2013</td>\n",
       "      <td>9</td>\n",
       "      <td>7</td>\n",
       "      <td>6</td>\n",
       "      <td>AS</td>\n",
       "      <td>14747</td>\n",
       "      <td>Seattle/Tacoma International</td>\n",
       "      <td>Seattle</td>\n",
       "      <td>WA</td>\n",
       "      <td>11278</td>\n",
       "      <td>Ronald Reagan Washington National</td>\n",
       "      <td>Washington</td>\n",
       "      <td>DC</td>\n",
       "      <td>810</td>\n",
       "      <td>-3</td>\n",
       "      <td>0</td>\n",
       "      <td>1614</td>\n",
       "      <td>-7</td>\n",
       "      <td>0</td>\n",
       "      <td>0</td>\n",
       "    </tr>\n",
       "    <tr>\n",
       "      <th>3</th>\n",
       "      <td>2013</td>\n",
       "      <td>7</td>\n",
       "      <td>22</td>\n",
       "      <td>1</td>\n",
       "      <td>OO</td>\n",
       "      <td>13930</td>\n",
       "      <td>Chicago O'Hare International</td>\n",
       "      <td>Chicago</td>\n",
       "      <td>IL</td>\n",
       "      <td>11042</td>\n",
       "      <td>Cleveland-Hopkins International</td>\n",
       "      <td>Cleveland</td>\n",
       "      <td>OH</td>\n",
       "      <td>804</td>\n",
       "      <td>35</td>\n",
       "      <td>1</td>\n",
       "      <td>1027</td>\n",
       "      <td>33</td>\n",
       "      <td>1</td>\n",
       "      <td>0</td>\n",
       "    </tr>\n",
       "    <tr>\n",
       "      <th>4</th>\n",
       "      <td>2013</td>\n",
       "      <td>5</td>\n",
       "      <td>16</td>\n",
       "      <td>4</td>\n",
       "      <td>DL</td>\n",
       "      <td>13931</td>\n",
       "      <td>Norfolk International</td>\n",
       "      <td>Norfolk</td>\n",
       "      <td>VA</td>\n",
       "      <td>10397</td>\n",
       "      <td>Hartsfield-Jackson Atlanta International</td>\n",
       "      <td>Atlanta</td>\n",
       "      <td>GA</td>\n",
       "      <td>545</td>\n",
       "      <td>-1</td>\n",
       "      <td>0</td>\n",
       "      <td>728</td>\n",
       "      <td>-9</td>\n",
       "      <td>0</td>\n",
       "      <td>0</td>\n",
       "    </tr>\n",
       "  </tbody>\n",
       "</table>\n",
       "</div>"
      ],
      "text/plain": [
       "   Year  Month  DayofMonth  DayOfWeek Carrier  OriginAirportID  \\\n",
       "0  2013      9          16          1      DL            15304   \n",
       "1  2013      9          23          1      WN            14122   \n",
       "2  2013      9           7          6      AS            14747   \n",
       "3  2013      7          22          1      OO            13930   \n",
       "4  2013      5          16          4      DL            13931   \n",
       "\n",
       "              OriginAirportName  OriginCity OriginState  DestAirportID  \\\n",
       "0           Tampa International       Tampa          FL          12478   \n",
       "1      Pittsburgh International  Pittsburgh          PA          13232   \n",
       "2  Seattle/Tacoma International     Seattle          WA          11278   \n",
       "3  Chicago O'Hare International     Chicago          IL          11042   \n",
       "4         Norfolk International     Norfolk          VA          10397   \n",
       "\n",
       "                            DestAirportName    DestCity DestState  CRSDepTime  \\\n",
       "0             John F. Kennedy International    New York        NY        1539   \n",
       "1              Chicago Midway International     Chicago        IL         710   \n",
       "2         Ronald Reagan Washington National  Washington        DC         810   \n",
       "3           Cleveland-Hopkins International   Cleveland        OH         804   \n",
       "4  Hartsfield-Jackson Atlanta International     Atlanta        GA         545   \n",
       "\n",
       "   DepDelay  DepDel15  CRSArrTime  ArrDelay  ArrDel15  Cancelled  \n",
       "0         4         0        1824        13         0          0  \n",
       "1         3         0         740        22         1          0  \n",
       "2        -3         0        1614        -7         0          0  \n",
       "3        35         1        1027        33         1          0  \n",
       "4        -1         0         728        -9         0          0  "
      ]
     },
     "execution_count": 5,
     "metadata": {},
     "output_type": "execute_result"
    }
   ],
   "source": [
    "comprobar_nulos(df)\n",
    "df.head(5)"
   ]
  }
 ],
 "metadata": {
  "kernelspec": {
   "display_name": "Python 3",
   "language": "python",
   "name": "python3"
  },
  "language_info": {
   "codemirror_mode": {
    "name": "ipython",
    "version": 3
   },
   "file_extension": ".py",
   "mimetype": "text/x-python",
   "name": "python",
   "nbconvert_exporter": "python",
   "pygments_lexer": "ipython3",
   "version": "3.10.4"
  }
 },
 "nbformat": 4,
 "nbformat_minor": 4
}
