{
 "cells": [
  {
   "cell_type": "markdown",
   "metadata": {},
   "source": [
    "# Analítica Avanzada de Datos.\n",
    "---"
   ]
  },
  {
   "cell_type": "markdown",
   "metadata": {},
   "source": [
    " FECHA DE ENTREGA: **Miercoles 12 de Abril**"
   ]
  },
  {
   "cell_type": "markdown",
   "metadata": {},
   "source": [
    "## Práctica 2. Regresión Lineal\n"
   ]
  },
  {
   "cell_type": "markdown",
   "metadata": {},
   "source": [
    " Utilizando el dataset *Air Quality Dataset* (AirQualityUCI.csv) y cuya descripción es la siguiente:\n",
    "\n",
    "El dataset contiene **9357** instancias de respuestas promediadas cada hora de un conjunto de *5 sensores químicos* de óxido metálico integrados en un dispositivo multisensor químico de calidad del aire. El dispositivo estaba situado sobre el terreno en una zona significativamente contaminada, a nivel de carretera, dentro de una ciudad italiana. Los datos se registraron de marzo de 2004 a febrero de 2005 (un año), lo que representa el periodo más largo de registros disponibles de respuestas de dispositivos de sensores químicos de calidad del aire desplegados sobre el terreno. Las concentraciones medias horarias reales de CO, hidrocarburos no metánicos, benceno, óxidos de nitrógeno (NOx) y dióxido de nitrógeno (NO2) fueron proporcionadas por un analizador certificado de referencia situado en el mismo lugar. Existen evidencias de sensibilidades cruzadas, así como de desviaciones del concepto y del sensor, tal como se describe en De Vito et al., Sens. And Act. B, Vol. 129,2,2008 (cita requerida) afectando eventualmente a las capacidades de estimación de concentración de los sensores. Los **valores perdidos** se marcan con el valor **-200**.\n",
    "\n",
    "https://archive.ics.uci.edu/ml/datasets/Air+quality"
   ]
  },
  {
   "cell_type": "markdown",
   "metadata": {},
   "source": [
    "Sus atributos son:\n",
    "\n",
    "0. Fecha (DD/MM/AAAA)\n",
    "1. Hora (HH.MM.SS)\n",
    "2. Concentración media horaria real de CO en mg/m^3 (analizador de referencia)\n",
    "3. Respuesta media horaria del sensor PT08.S1 (óxido de estaño) (nominalmente dirigido a CO)\n",
    "4. Promedio horario real de la concentración total de hidrocarburos no metánicos en microg/m^3 (analizador de referencia)\n",
    "5. Concentración media horaria real de benceno en microg/m^3 (analizador de referencia)\n",
    "6. Respuesta media horaria del sensor PT08.S2 (titania) (objetivo nominal NMHC)\n",
    "7. Concentración de NOx media horaria real en ppb (analizador de referencia)\n",
    "8. PT08.S3 (óxido de tungsteno) respuesta media horaria del sensor (objetivo nominal NOx)\n",
    "9. Concentración de NO2 real media horaria en microg/m^3 (analizador de referencia)\n",
    "10. PT08.S4 (óxido de tungsteno) respuesta media horaria del sensor (objetivo nominal NO2)\n",
    "11. PT08.S5 (óxido de indio) respuesta media horaria del sensor (objetivo nominal O3)\n",
    "12. Temperatura en Â°C\n",
    "13. Humedad relativa (%)\n",
    "14. AH Humedad absoluta"
   ]
  },
  {
   "cell_type": "markdown",
   "metadata": {},
   "source": [
    "Utilizando este Dataset y los modelos de regresión vistos en la unidad, contesta la siguiente pregunta:\n",
    "- **¿En que horarios se tiene la mayor contaminación del aire?**\n",
    "\n",
    "1. Debes analizar:\n",
    "    - Si existen valores perdidos\n",
    "    - Elegir las características más apropiadas\n",
    "    - Calcular la correlación estadística\n",
    "\n",
    "2. Con base en tu análisis previo, entrena el modelo de regresión (hold out 70% - 30%)\n",
    "3. Evalua tu modelo entrenado calculando:\n",
    "    - MSE\n",
    "    - RMSE\n",
    "    - R-squared\n",
    "4. Escribe una breve conclusión de los resultados de tu análisis completo"
   ]
  },
  {
   "cell_type": "code",
   "execution_count": 2,
   "metadata": {},
   "outputs": [],
   "source": [
    "# Librerias a ocupar\n",
    "import pandas as pd\n",
    "import numpy as np\n",
    "import seaborn as sns\n",
    "import matplotlib.pyplot as plt\n",
    "import sklearn"
   ]
  },
  {
   "attachments": {},
   "cell_type": "markdown",
   "metadata": {},
   "source": [
    "### Preprosesamiento"
   ]
  },
  {
   "cell_type": "code",
   "execution_count": 17,
   "metadata": {},
   "outputs": [
    {
     "data": {
      "text/html": [
       "<div>\n",
       "<style scoped>\n",
       "    .dataframe tbody tr th:only-of-type {\n",
       "        vertical-align: middle;\n",
       "    }\n",
       "\n",
       "    .dataframe tbody tr th {\n",
       "        vertical-align: top;\n",
       "    }\n",
       "\n",
       "    .dataframe thead th {\n",
       "        text-align: right;\n",
       "    }\n",
       "</style>\n",
       "<table border=\"1\" class=\"dataframe\">\n",
       "  <thead>\n",
       "    <tr style=\"text-align: right;\">\n",
       "      <th></th>\n",
       "      <th>Date</th>\n",
       "      <th>Time</th>\n",
       "      <th>CO(GT)</th>\n",
       "      <th>PT08.S1(CO)</th>\n",
       "      <th>NMHC(GT)</th>\n",
       "      <th>C6H6(GT)</th>\n",
       "      <th>PT08.S2(NMHC)</th>\n",
       "      <th>NOx(GT)</th>\n",
       "      <th>PT08.S3(NOx)</th>\n",
       "      <th>NO2(GT)</th>\n",
       "      <th>PT08.S4(NO2)</th>\n",
       "      <th>PT08.S5(O3)</th>\n",
       "      <th>T</th>\n",
       "      <th>RH</th>\n",
       "      <th>AH</th>\n",
       "      <th>Unnamed: 15</th>\n",
       "      <th>Unnamed: 16</th>\n",
       "    </tr>\n",
       "  </thead>\n",
       "  <tbody>\n",
       "    <tr>\n",
       "      <th>0</th>\n",
       "      <td>10/03/2004</td>\n",
       "      <td>18:00:00</td>\n",
       "      <td>2.6</td>\n",
       "      <td>1360.0</td>\n",
       "      <td>150.0</td>\n",
       "      <td>11.9</td>\n",
       "      <td>1046.0</td>\n",
       "      <td>166.0</td>\n",
       "      <td>1056.0</td>\n",
       "      <td>113.0</td>\n",
       "      <td>1692.0</td>\n",
       "      <td>1268.0</td>\n",
       "      <td>13.6</td>\n",
       "      <td>48.9</td>\n",
       "      <td>0.7578</td>\n",
       "      <td>NaN</td>\n",
       "      <td>NaN</td>\n",
       "    </tr>\n",
       "    <tr>\n",
       "      <th>1</th>\n",
       "      <td>10/03/2004</td>\n",
       "      <td>19:00:00</td>\n",
       "      <td>2.0</td>\n",
       "      <td>1292.0</td>\n",
       "      <td>112.0</td>\n",
       "      <td>9.4</td>\n",
       "      <td>955.0</td>\n",
       "      <td>103.0</td>\n",
       "      <td>1174.0</td>\n",
       "      <td>92.0</td>\n",
       "      <td>1559.0</td>\n",
       "      <td>972.0</td>\n",
       "      <td>13.3</td>\n",
       "      <td>47.7</td>\n",
       "      <td>0.7255</td>\n",
       "      <td>NaN</td>\n",
       "      <td>NaN</td>\n",
       "    </tr>\n",
       "    <tr>\n",
       "      <th>2</th>\n",
       "      <td>10/03/2004</td>\n",
       "      <td>20:00:00</td>\n",
       "      <td>2.2</td>\n",
       "      <td>1402.0</td>\n",
       "      <td>88.0</td>\n",
       "      <td>9.0</td>\n",
       "      <td>939.0</td>\n",
       "      <td>131.0</td>\n",
       "      <td>1140.0</td>\n",
       "      <td>114.0</td>\n",
       "      <td>1555.0</td>\n",
       "      <td>1074.0</td>\n",
       "      <td>11.9</td>\n",
       "      <td>54.0</td>\n",
       "      <td>0.7502</td>\n",
       "      <td>NaN</td>\n",
       "      <td>NaN</td>\n",
       "    </tr>\n",
       "    <tr>\n",
       "      <th>3</th>\n",
       "      <td>10/03/2004</td>\n",
       "      <td>21:00:00</td>\n",
       "      <td>2.2</td>\n",
       "      <td>1376.0</td>\n",
       "      <td>80.0</td>\n",
       "      <td>9.2</td>\n",
       "      <td>948.0</td>\n",
       "      <td>172.0</td>\n",
       "      <td>1092.0</td>\n",
       "      <td>122.0</td>\n",
       "      <td>1584.0</td>\n",
       "      <td>1203.0</td>\n",
       "      <td>11.0</td>\n",
       "      <td>60.0</td>\n",
       "      <td>0.7867</td>\n",
       "      <td>NaN</td>\n",
       "      <td>NaN</td>\n",
       "    </tr>\n",
       "    <tr>\n",
       "      <th>4</th>\n",
       "      <td>10/03/2004</td>\n",
       "      <td>22:00:00</td>\n",
       "      <td>1.6</td>\n",
       "      <td>1272.0</td>\n",
       "      <td>51.0</td>\n",
       "      <td>6.5</td>\n",
       "      <td>836.0</td>\n",
       "      <td>131.0</td>\n",
       "      <td>1205.0</td>\n",
       "      <td>116.0</td>\n",
       "      <td>1490.0</td>\n",
       "      <td>1110.0</td>\n",
       "      <td>11.2</td>\n",
       "      <td>59.6</td>\n",
       "      <td>0.7888</td>\n",
       "      <td>NaN</td>\n",
       "      <td>NaN</td>\n",
       "    </tr>\n",
       "  </tbody>\n",
       "</table>\n",
       "</div>"
      ],
      "text/plain": [
       "         Date      Time  CO(GT)  PT08.S1(CO)  NMHC(GT)  C6H6(GT)  \\\n",
       "0  10/03/2004  18:00:00     2.6       1360.0     150.0      11.9   \n",
       "1  10/03/2004  19:00:00     2.0       1292.0     112.0       9.4   \n",
       "2  10/03/2004  20:00:00     2.2       1402.0      88.0       9.0   \n",
       "3  10/03/2004  21:00:00     2.2       1376.0      80.0       9.2   \n",
       "4  10/03/2004  22:00:00     1.6       1272.0      51.0       6.5   \n",
       "\n",
       "   PT08.S2(NMHC)  NOx(GT)  PT08.S3(NOx)  NO2(GT)  PT08.S4(NO2)  PT08.S5(O3)  \\\n",
       "0         1046.0    166.0        1056.0    113.0        1692.0       1268.0   \n",
       "1          955.0    103.0        1174.0     92.0        1559.0        972.0   \n",
       "2          939.0    131.0        1140.0    114.0        1555.0       1074.0   \n",
       "3          948.0    172.0        1092.0    122.0        1584.0       1203.0   \n",
       "4          836.0    131.0        1205.0    116.0        1490.0       1110.0   \n",
       "\n",
       "      T    RH      AH  Unnamed: 15  Unnamed: 16  \n",
       "0  13.6  48.9  0.7578          NaN          NaN  \n",
       "1  13.3  47.7  0.7255          NaN          NaN  \n",
       "2  11.9  54.0  0.7502          NaN          NaN  \n",
       "3  11.0  60.0  0.7867          NaN          NaN  \n",
       "4  11.2  59.6  0.7888          NaN          NaN  "
      ]
     },
     "execution_count": 17,
     "metadata": {},
     "output_type": "execute_result"
    }
   ],
   "source": [
    "# leemos dataset\n",
    "df = pd.read_csv('AirQualityUCI.csv', sep=',')\n",
    "\n",
    "# Visualizamos el dataset\n",
    "df.head(5)\n",
    "\n",
    "# Comprobamos el total de valores perdidos\n",
    "# df.isnull().sum()"
   ]
  },
  {
   "cell_type": "code",
   "execution_count": 19,
   "metadata": {},
   "outputs": [
    {
     "data": {
      "text/plain": [
       "Date              114\n",
       "Time              114\n",
       "CO(GT)            114\n",
       "PT08.S1(CO)       114\n",
       "NMHC(GT)          114\n",
       "C6H6(GT)          114\n",
       "PT08.S2(NMHC)     114\n",
       "NOx(GT)           114\n",
       "PT08.S3(NOx)      114\n",
       "NO2(GT)           114\n",
       "PT08.S4(NO2)      114\n",
       "PT08.S5(O3)       114\n",
       "T                 114\n",
       "RH                114\n",
       "AH                114\n",
       "Unnamed: 15      9471\n",
       "Unnamed: 16      9471\n",
       "dtype: int64"
      ]
     },
     "execution_count": 19,
     "metadata": {},
     "output_type": "execute_result"
    }
   ],
   "source": [
    "# Comprobamos la cantidad de nulos\n",
    "df.isnull().sum()"
   ]
  },
  {
   "cell_type": "code",
   "execution_count": 21,
   "metadata": {},
   "outputs": [
    {
     "data": {
      "text/plain": [
       "Date              object\n",
       "Time              object\n",
       "CO(GT)           float64\n",
       "PT08.S1(CO)      float64\n",
       "NMHC(GT)         float64\n",
       "C6H6(GT)         float64\n",
       "PT08.S2(NMHC)    float64\n",
       "NOx(GT)          float64\n",
       "PT08.S3(NOx)     float64\n",
       "NO2(GT)          float64\n",
       "PT08.S4(NO2)     float64\n",
       "PT08.S5(O3)      float64\n",
       "T                float64\n",
       "RH               float64\n",
       "AH               float64\n",
       "Unnamed: 15      float64\n",
       "Unnamed: 16      float64\n",
       "dtype: object"
      ]
     },
     "execution_count": 21,
     "metadata": {},
     "output_type": "execute_result"
    }
   ],
   "source": [
    "df.dtypes"
   ]
  },
  {
   "cell_type": "code",
   "execution_count": 24,
   "metadata": {},
   "outputs": [
    {
     "data": {
      "text/plain": [
       "-200.0    1639\n",
       " 89.0       41\n",
       " 65.0       37\n",
       " 93.0       36\n",
       " 122.0      36\n",
       "          ... \n",
       " 791.0       1\n",
       " 674.0       1\n",
       " 844.0       1\n",
       " 809.0       1\n",
       " 594.0       1\n",
       "Name: NOx(GT), Length: 926, dtype: int64"
      ]
     },
     "execution_count": 24,
     "metadata": {},
     "output_type": "execute_result"
    }
   ],
   "source": [
    "def simulate_moving_averages_process(\n",
    "    parameters: List[float]=[0.9], \n",
    "    timesteps: int=100, \n",
    "    mean: float=0.,\n",
    "    std: float=1.a\n",
    "    ):\n",
    "    \n",
    "    '''\n",
    "    This function simulates an MA(q) process with mean 0.\n",
    "    \n",
    "    Inputs:\n",
    "        parameters: A list of the parameters theta used to compute the moving averages simulation\n",
    "        timesteps: The number of timesteps to simulate.\n",
    "        mean: The mean used to sample the white noise\n",
    "        std: The standard deviation used to sample the white noise\n",
    "    Output:\n",
    "        The time series simulation\n",
    "    '''\n",
    "    # Genera una serie de ruido blanco\n",
    "    white_noise = np.random.normal(loc=mean, scale=std, size=timesteps)\n",
    "\n",
    "    # Inicializa la serie de tiempo simulada con ceros\n",
    "    ma_process = np.zeros(timesteps)\n",
    "\n",
    "    # Calcula los valores de la serie de tiempo simulando la media movil\n",
    "    for i in range(len(ma_process)):\n",
    "        for j in range(len(parameters)):\n",
    "            if i - j >= 0:\n",
    "                ma_process[i] += parameters[j] * white_noise[i - j]\n",
    "    \n",
    "    return ma_process\n",
    "    \n",
    "    return np.zeros(timesteps)"
   ]
  }
 ],
 "metadata": {
  "kernelspec": {
   "display_name": "Python 3",
   "language": "python",
   "name": "python3"
  },
  "language_info": {
   "codemirror_mode": {
    "name": "ipython",
    "version": 3
   },
   "file_extension": ".py",
   "mimetype": "text/x-python",
   "name": "python",
   "nbconvert_exporter": "python",
   "pygments_lexer": "ipython3",
   "version": "3.10.10"
  }
 },
 "nbformat": 4,
 "nbformat_minor": 4
}
